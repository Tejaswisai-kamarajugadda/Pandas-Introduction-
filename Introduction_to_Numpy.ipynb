{
  "nbformat": 4,
  "nbformat_minor": 0,
  "metadata": {
    "colab": {
      "provenance": [],
      "authorship_tag": "ABX9TyPp2VqjmM0bKIfn1ps9PG1w",
      "include_colab_link": true
    },
    "kernelspec": {
      "name": "python3",
      "display_name": "Python 3"
    },
    "language_info": {
      "name": "python"
    }
  },
  "cells": [
    {
      "cell_type": "markdown",
      "metadata": {
        "id": "view-in-github",
        "colab_type": "text"
      },
      "source": [
        "<a href=\"https://colab.research.google.com/github/Tejaswisai-kamarajugadda/Pandas-Introduction-/blob/main/Introduction_to_Numpy.ipynb\" target=\"_parent\"><img src=\"https://colab.research.google.com/assets/colab-badge.svg\" alt=\"Open In Colab\"/></a>"
      ]
    },
    {
      "cell_type": "code",
      "source": [
        "# Numpy - Numeric Python\n",
        "# Most powerful package - Library\n",
        "\n",
        "# Numpy - Dimensions\n",
        "\n",
        "# A - One Dimensional Array\n",
        "# [A,B] || [A\n",
        "#           B] - Two Dimensional Array - Row || Column\n",
        "\n",
        "# Three Dimensional\n",
        "\n",
        "# Array - Storing, Manipulating, Similar Data type\n",
        "\n",
        "# Faster than any mathematical functions\n",
        "# convenient compared to other packages\n",
        "# Memory efficiency\n",
        "# Support multi dimensional arrays\n",
        "\n",
        "# speed(Numpy operations) > speed(Lists operations)\n",
        "# size(Numpy operations) < size(Lists operations)"
      ],
      "metadata": {
        "id": "j2h1QCenMCGA"
      },
      "execution_count": 89,
      "outputs": []
    },
    {
      "cell_type": "code",
      "source": [
        "# Install numpy _ pip3 install numpy // pip install numpy"
      ],
      "metadata": {
        "id": "di1IxofIMSYw"
      },
      "execution_count": null,
      "outputs": []
    },
    {
      "cell_type": "code",
      "source": [
        "import numpy as np"
      ],
      "metadata": {
        "id": "M6aJNFvKMXGw"
      },
      "execution_count": null,
      "outputs": []
    },
    {
      "cell_type": "code",
      "source": [
        "# Create a numpy array\n",
        "# 1D array\n",
        "\n",
        "arr1D = np.array([1,2,3,4,5])\n",
        "print(arr1D)"
      ],
      "metadata": {
        "colab": {
          "base_uri": "https://localhost:8080/"
        },
        "id": "HrgHU5MqMbYL",
        "outputId": "d03d299a-1a25-4b9c-9827-0ceb83087d92"
      },
      "execution_count": null,
      "outputs": [
        {
          "output_type": "stream",
          "name": "stdout",
          "text": [
            "[1 2 3 4 5]\n"
          ]
        }
      ]
    },
    {
      "cell_type": "code",
      "source": [
        "# Creating 2D array - Matrix\n",
        "arr2D = np.array([\n",
        "    [1,2,3],[4,5,6]\n",
        "])\n",
        "print(arr2D)"
      ],
      "metadata": {
        "colab": {
          "base_uri": "https://localhost:8080/"
        },
        "id": "eGT-PgWGMfgY",
        "outputId": "1b2ff326-7067-4e15-be18-b2f5b9db626a"
      },
      "execution_count": null,
      "outputs": [
        {
          "output_type": "stream",
          "name": "stdout",
          "text": [
            "[[1 2 3]\n",
            " [4 5 6]]\n"
          ]
        }
      ]
    },
    {
      "cell_type": "code",
      "source": [
        "# Creating arrays with default values\n",
        "\n",
        "# Creating matrix with all values of elements as '0'\n",
        "allZeros = np.zeros((2,3))\n",
        "print(allZeros)\n",
        "\n",
        "# Creating matrix with all values of elements as '1'\n",
        "allOnes = np.ones((2,3))\n",
        "print(allOnes)\n",
        "\n",
        "# Creating matrix with all values of elements as 'constant value- n ~ Fill value'\n",
        "allConstant = np.full((2,3),6)\n",
        "print(allConstant)"
      ],
      "metadata": {
        "colab": {
          "base_uri": "https://localhost:8080/"
        },
        "id": "k8aPf3CaMkrS",
        "outputId": "7f783b62-650d-42b7-f98c-1cccb776ec38"
      },
      "execution_count": null,
      "outputs": [
        {
          "output_type": "stream",
          "name": "stdout",
          "text": [
            "[[0. 0. 0.]\n",
            " [0. 0. 0.]]\n",
            "[[1. 1. 1.]\n",
            " [1. 1. 1.]]\n",
            "[[6 6 6]\n",
            " [6 6 6]]\n"
          ]
        }
      ]
    },
    {
      "cell_type": "code",
      "source": [
        "# Create an identity matrix - I - Square matrix\n",
        "\n",
        "identity = np.eye(4)\n",
        "print(identity)\n",
        "\n",
        "# Identity Matrix - Aii = 1 && Aij = 0\n",
        "# For all A Belongs to R M×N\n",
        "# Aij"
      ],
      "metadata": {
        "colab": {
          "base_uri": "https://localhost:8080/"
        },
        "id": "2H3Jx7YPMpwS",
        "outputId": "fb6703c2-1059-4832-80da-5e10e7cb50d7"
      },
      "execution_count": null,
      "outputs": [
        {
          "output_type": "stream",
          "name": "stdout",
          "text": [
            "[[1. 0. 0. 0.]\n",
            " [0. 1. 0. 0.]\n",
            " [0. 0. 1. 0.]\n",
            " [0. 0. 0. 1.]]\n"
          ]
        }
      ]
    },
    {
      "cell_type": "code",
      "source": [
        "# Creating random Matrices\n",
        "\n",
        "# between 0 and 1\n",
        "rand1 = np.random.rand(3,3)\n",
        "print(rand1)\n",
        "\n",
        "# between a and b\n",
        "rand2 = np.random.randint(10,20,(3,3))\n",
        "print(rand2)"
      ],
      "metadata": {
        "colab": {
          "base_uri": "https://localhost:8080/"
        },
        "id": "w2K6ruc4Mt0f",
        "outputId": "966fae45-6b4e-49f1-a10b-afa0ea45bef8"
      },
      "execution_count": null,
      "outputs": [
        {
          "output_type": "stream",
          "name": "stdout",
          "text": [
            "[[0.66912687 0.35605351 0.4845007 ]\n",
            " [0.28868137 0.89883688 0.00616434]\n",
            " [0.18962739 0.58620481 0.95666393]]\n",
            "[[14 15 11]\n",
            " [13 19 11]\n",
            " [14 17 12]]\n"
          ]
        }
      ]
    },
    {
      "cell_type": "code",
      "source": [
        "# Array Properties\n",
        "\n",
        "arr = np.array([[1,2,3,4],[2,3,4,5]])\n",
        "print(arr)\n",
        "\n",
        "# Shape or array\n",
        "print(f'\\nThe shape of the array is {arr.shape}')\n",
        "\n",
        "# Size of array\n",
        "print(f'The size of the array is {arr.size}')\n",
        "\n",
        "# Datatype of array\n",
        "print(f'The Data type of the array is {arr.dtype}')\n",
        "\n",
        "# Dimensions of array\n",
        "print(f'The Dimension of the array is {arr.ndim}')"
      ],
      "metadata": {
        "colab": {
          "base_uri": "https://localhost:8080/"
        },
        "id": "Ii0HnQ_8M3br",
        "outputId": "cce5a463-5b56-4d70-929c-9eae4bf7f1be"
      },
      "execution_count": null,
      "outputs": [
        {
          "output_type": "stream",
          "name": "stdout",
          "text": [
            "[[1 2 3 4]\n",
            " [2 3 4 5]]\n",
            "\n",
            "The shape of the array is (2, 4)\n",
            "The size of the array is 8\n",
            "The Data type of the array is int64\n",
            "The Dimension of the array is 2\n"
          ]
        }
      ]
    },
    {
      "cell_type": "code",
      "source": [
        "# Indexing and Slicing\n",
        "\n",
        "# Access the elements in 1D Array\n",
        "arr = np.array([1,2,3,4])\n",
        "print(arr)\n",
        "print(arr[3])\n",
        "\n",
        "# Slicing the elements\n",
        "print(arr[0:3])\n",
        "# Indexing and Slicing\n",
        "\n",
        "# Slicing the elements\n",
        "print(arr[0:3])\n",
        "\n",
        "# Access the element in 2D Array\n",
        "arr2 = np.array([[1,2,3],[2,3,4]])\n",
        "print(arr2)\n",
        "print(arr2[1,1])\n",
        "print(arr2[0,:]) # first row with all columns\n",
        "print(arr2[:,0]) # first Column with all rows"
      ],
      "metadata": {
        "colab": {
          "base_uri": "https://localhost:8080/"
        },
        "id": "QffvUgfWM-q9",
        "outputId": "f86758fa-ebf3-4303-b706-9874750f87b9"
      },
      "execution_count": null,
      "outputs": [
        {
          "output_type": "stream",
          "name": "stdout",
          "text": [
            "[1 2 3 4]\n",
            "4\n",
            "[1 2 3]\n",
            "[1 2 3]\n",
            "[[1 2 3]\n",
            " [2 3 4]]\n",
            "3\n",
            "[1 2 3]\n",
            "[1 2]\n"
          ]
        }
      ]
    },
    {
      "cell_type": "code",
      "source": [
        "# L1 = []\n",
        "# [L1.append(_) for _ in range(10)]\n",
        "\n",
        "L1 = np.arange(10,-10,-1)\n",
        "\n",
        "print(L1)"
      ],
      "metadata": {
        "colab": {
          "base_uri": "https://localhost:8080/"
        },
        "id": "O157fzlzNEPJ",
        "outputId": "23103fa2-03d6-4e33-dc3c-a512a85189ae"
      },
      "execution_count": null,
      "outputs": [
        {
          "output_type": "stream",
          "name": "stdout",
          "text": [
            "[10  9  8  7  6  5  4  3  2  1  0 -1 -2 -3 -4 -5 -6 -7 -8 -9]\n"
          ]
        }
      ]
    },
    {
      "cell_type": "code",
      "source": [
        "# Mathematical operations\n",
        "\n",
        "a = np.array([1,2,3])\n",
        "b = np.array([3,4,5])\n",
        "\n",
        "print(f'The sum of a and b is {a+b}')\n",
        "print(f'The diff of a and b is {a-b}')\n",
        "print(f'The product of a and b is {a*b}')\n",
        "print(f'The division of a and b is {a/b}')"
      ],
      "metadata": {
        "colab": {
          "base_uri": "https://localhost:8080/"
        },
        "id": "-OUC6feSNOFu",
        "outputId": "f167090e-e7cd-4345-83ee-e855e1638a4e"
      },
      "execution_count": null,
      "outputs": [
        {
          "output_type": "stream",
          "name": "stdout",
          "text": [
            "The sum of a and b is [4 6 8]\n",
            "The diff of a and b is [-2 -2 -2]\n",
            "The product of a and b is [ 3  8 15]\n",
            "The division of a and b is [0.33333333 0.5        0.6       ]\n"
          ]
        }
      ]
    },
    {
      "cell_type": "code",
      "source": [
        "# Matrix multiplication\n",
        "b1 = np.array([[1,2,3],[2,3,4]])\n",
        "b2 = np.array([[5,6],[7,8],[1,3]])\n",
        "\n",
        "# Dot product __ product=AB __ A m × n __ B n × p\n",
        "c = np.dot(b1,b2)\n",
        "print(c)"
      ],
      "metadata": {
        "colab": {
          "base_uri": "https://localhost:8080/"
        },
        "id": "EGhRxTopNP30",
        "outputId": "5b8c7683-26e1-4682-cd54-bfcb04a886f0"
      },
      "execution_count": null,
      "outputs": [
        {
          "output_type": "stream",
          "name": "stdout",
          "text": [
            "[[22 31]\n",
            " [35 48]]\n"
          ]
        }
      ]
    },
    {
      "cell_type": "code",
      "source": [
        "print(b1)"
      ],
      "metadata": {
        "colab": {
          "base_uri": "https://localhost:8080/"
        },
        "id": "OFS2u2NTNUNp",
        "outputId": "4bffe598-1473-49b5-90b6-5a1a004fbf3a"
      },
      "execution_count": null,
      "outputs": [
        {
          "output_type": "stream",
          "name": "stdout",
          "text": [
            "[[1 2 3]\n",
            " [2 3 4]]\n"
          ]
        }
      ]
    },
    {
      "cell_type": "code",
      "source": [
        "print(b2)"
      ],
      "metadata": {
        "colab": {
          "base_uri": "https://localhost:8080/"
        },
        "id": "BbfadyA6NYqA",
        "outputId": "799cb2ea-0707-4125-a91d-4a62a906ee68"
      },
      "execution_count": null,
      "outputs": [
        {
          "output_type": "stream",
          "name": "stdout",
          "text": [
            "[[5 6]\n",
            " [7 8]\n",
            " [1 3]]\n"
          ]
        }
      ]
    },
    {
      "cell_type": "code",
      "source": [
        "[\n",
        "   [22,31],\n",
        "   [35,48]\n",
        "]"
      ],
      "metadata": {
        "colab": {
          "base_uri": "https://localhost:8080/"
        },
        "id": "ex9ccwtxNczd",
        "outputId": "9c8cecba-0625-4495-d708-1500d79b6cde"
      },
      "execution_count": null,
      "outputs": [
        {
          "output_type": "execute_result",
          "data": {
            "text/plain": [
              "[[22, 31], [35, 48]]"
            ]
          },
          "metadata": {},
          "execution_count": 88
        }
      ]
    },
    {
      "cell_type": "code",
      "execution_count": null,
      "metadata": {
        "id": "Qy8oucqc2QGs"
      },
      "outputs": [],
      "source": [
        "import numpy as np"
      ]
    },
    {
      "cell_type": "code",
      "source": [
        "#Recape\n",
        "arr = np.array([[1,2,3],[4,5,6]])"
      ],
      "metadata": {
        "id": "cfnTI0fj3KnR"
      },
      "execution_count": null,
      "outputs": []
    },
    {
      "cell_type": "code",
      "source": [
        "type(arr)"
      ],
      "metadata": {
        "colab": {
          "base_uri": "https://localhost:8080/"
        },
        "id": "Ou1Q7JNe3vop",
        "outputId": "cecf690e-6a7d-4e80-a9e8-611610c736f9"
      },
      "execution_count": null,
      "outputs": [
        {
          "output_type": "execute_result",
          "data": {
            "text/plain": [
              "numpy.ndarray"
            ]
          },
          "metadata": {},
          "execution_count": 4
        }
      ]
    },
    {
      "cell_type": "code",
      "source": [
        "\n",
        "#Dot product - m × n || n × p\n",
        "arr1 = np.random.randint(1,2,(1,2))"
      ],
      "metadata": {
        "id": "1yr-D4kS30wS"
      },
      "execution_count": null,
      "outputs": []
    },
    {
      "cell_type": "code",
      "source": [
        "arr1.shape"
      ],
      "metadata": {
        "colab": {
          "base_uri": "https://localhost:8080/"
        },
        "id": "8-HuL7ag4giV",
        "outputId": "6f9f899a-8796-44f4-866a-936e34a8f9ed"
      },
      "execution_count": null,
      "outputs": [
        {
          "output_type": "execute_result",
          "data": {
            "text/plain": [
              "(1, 2)"
            ]
          },
          "metadata": {},
          "execution_count": 29
        }
      ]
    },
    {
      "cell_type": "code",
      "source": [
        "result = np.dot(arr1,arr)"
      ],
      "metadata": {
        "id": "4v4q3fy14m9u"
      },
      "execution_count": null,
      "outputs": []
    },
    {
      "cell_type": "code",
      "source": [
        "print(result)"
      ],
      "metadata": {
        "colab": {
          "base_uri": "https://localhost:8080/"
        },
        "id": "R0co6JjL4x0Y",
        "outputId": "dae533e7-038f-45cc-c66d-e31d9a881df2"
      },
      "execution_count": null,
      "outputs": [
        {
          "output_type": "stream",
          "name": "stdout",
          "text": [
            "[[5 7 9]]\n"
          ]
        }
      ]
    },
    {
      "cell_type": "code",
      "source": [
        "r1 = np.random.randint(10,20,(3,3))\n",
        "print(r1)"
      ],
      "metadata": {
        "colab": {
          "base_uri": "https://localhost:8080/"
        },
        "id": "aD5yx4tW450R",
        "outputId": "225e8bdb-e530-41da-f947-5e489c0d927e"
      },
      "execution_count": null,
      "outputs": [
        {
          "output_type": "stream",
          "name": "stdout",
          "text": [
            "[[11 15 14]\n",
            " [10 16 17]\n",
            " [17 12 14]]\n"
          ]
        }
      ]
    },
    {
      "cell_type": "code",
      "source": [
        "r2 = np.eye(3)\n",
        "print(r2)"
      ],
      "metadata": {
        "colab": {
          "base_uri": "https://localhost:8080/"
        },
        "id": "5OKoGfTB5IyW",
        "outputId": "01ec2889-97f9-45a7-9ba9-69768af1e66e"
      },
      "execution_count": null,
      "outputs": [
        {
          "output_type": "stream",
          "name": "stdout",
          "text": [
            "[[1. 0. 0.]\n",
            " [0. 1. 0.]\n",
            " [0. 0. 1.]]\n"
          ]
        }
      ]
    },
    {
      "cell_type": "code",
      "source": [
        "#r1.I\n",
        "result2 = np.dot(r2,r1)"
      ],
      "metadata": {
        "id": "4DYYib0x5RLa"
      },
      "execution_count": null,
      "outputs": []
    },
    {
      "cell_type": "code",
      "source": [
        "print(result2)"
      ],
      "metadata": {
        "colab": {
          "base_uri": "https://localhost:8080/"
        },
        "id": "USZ6TA0_5c7L",
        "outputId": "9f39f148-fe48-42fe-9b6c-a1740af2dbe7"
      },
      "execution_count": null,
      "outputs": [
        {
          "output_type": "stream",
          "name": "stdout",
          "text": [
            "[[11. 15. 14.]\n",
            " [10. 16. 17.]\n",
            " [17. 12. 14.]]\n"
          ]
        }
      ]
    },
    {
      "cell_type": "code",
      "source": [
        "#M . I = I . M = M"
      ],
      "metadata": {
        "id": "Ek19WUPC5i5v"
      },
      "execution_count": null,
      "outputs": []
    },
    {
      "cell_type": "code",
      "source": [
        "# A . B ! = B . A"
      ],
      "metadata": {
        "id": "IdiMLaQA6J8u"
      },
      "execution_count": null,
      "outputs": []
    },
    {
      "cell_type": "code",
      "source": [
        "#Mathematical operations\n",
        "# + - * /\n",
        "t1 = np.random.randint(3,6,(3,3))\n",
        "t2 = np.random.randint(3,6,(3,3))"
      ],
      "metadata": {
        "id": "Fojk7H6v6yII"
      },
      "execution_count": null,
      "outputs": []
    },
    {
      "cell_type": "code",
      "source": [
        "print(t1)\n",
        "print(t2)"
      ],
      "metadata": {
        "colab": {
          "base_uri": "https://localhost:8080/"
        },
        "id": "mKWNAgW27e6j",
        "outputId": "f614b36e-428c-4676-f817-b91191ed5eb9"
      },
      "execution_count": null,
      "outputs": [
        {
          "output_type": "stream",
          "name": "stdout",
          "text": [
            "[[4 3 4]\n",
            " [5 4 3]\n",
            " [5 3 3]]\n",
            "[[4 5 3]\n",
            " [4 5 3]\n",
            " [4 4 5]]\n"
          ]
        }
      ]
    },
    {
      "cell_type": "code",
      "source": [
        "t3 = t1 * t2"
      ],
      "metadata": {
        "id": "xATDOHtX9V3y"
      },
      "execution_count": null,
      "outputs": []
    },
    {
      "cell_type": "code",
      "source": [
        "print(t3)"
      ],
      "metadata": {
        "colab": {
          "base_uri": "https://localhost:8080/"
        },
        "id": "0oiwsxpl9eHV",
        "outputId": "110af039-8120-4de1-bb8c-869f20fc18ee"
      },
      "execution_count": null,
      "outputs": [
        {
          "output_type": "stream",
          "name": "stdout",
          "text": [
            "[[16 15 12]\n",
            " [20 20  9]\n",
            " [20 12 15]]\n"
          ]
        }
      ]
    },
    {
      "cell_type": "code",
      "source": [
        "#Matrix multiplication\n",
        "result = np.dot(arr1,arr)"
      ],
      "metadata": {
        "id": "pcB_dM_a9hPY"
      },
      "execution_count": null,
      "outputs": []
    },
    {
      "cell_type": "code",
      "source": [
        "#Statistical operations\n",
        "mean = t3.mean()\n",
        "mode = t3.max()\n",
        "median = np.median(t3)\n",
        "std = np.std(t3)\n",
        "var = np.var(t3)"
      ],
      "metadata": {
        "id": "DClyFuli9uv9"
      },
      "execution_count": null,
      "outputs": []
    },
    {
      "cell_type": "code",
      "source": [
        "print(std)"
      ],
      "metadata": {
        "colab": {
          "base_uri": "https://localhost:8080/"
        },
        "id": "VtDpmK389--6",
        "outputId": "7bda141c-1aea-4c07-b7e7-b4887f50910d"
      },
      "execution_count": null,
      "outputs": [
        {
          "output_type": "stream",
          "name": "stdout",
          "text": [
            "3.7745083892140068\n"
          ]
        }
      ]
    },
    {
      "cell_type": "code",
      "source": [
        "print(var)"
      ],
      "metadata": {
        "colab": {
          "base_uri": "https://localhost:8080/"
        },
        "id": "Wx5UO7qT-F3a",
        "outputId": "4add6065-e14f-44f6-894a-4fef8298c82d"
      },
      "execution_count": null,
      "outputs": [
        {
          "output_type": "stream",
          "name": "stdout",
          "text": [
            "14.246913580246915\n"
          ]
        }
      ]
    },
    {
      "cell_type": "code",
      "source": [
        "std * std"
      ],
      "metadata": {
        "colab": {
          "base_uri": "https://localhost:8080/"
        },
        "id": "wyNLB6X1--5a",
        "outputId": "6237c001-b07a-414d-e969-578dbb44281e"
      },
      "execution_count": null,
      "outputs": [
        {
          "output_type": "execute_result",
          "data": {
            "text/plain": [
              "14.246913580246916"
            ]
          },
          "metadata": {},
          "execution_count": 61
        }
      ]
    },
    {
      "cell_type": "code",
      "source": [
        "# Trigonometric functions\n",
        "# Sin(x)\n",
        "# Cos(x)\n",
        "# Tan(x) - Sin(x) / Cos(x)\n",
        "# Cosec - 1 / sin(x)\n",
        "# Sec - 1 / cos(x)\n",
        "# Cot - 1 / tan(x)\n",
        "#\n",
        "angles = np.array([0,15,30,45,60,75,90])\n",
        "\n",
        "# Sin (array)\n",
        "\n",
        "result = np.sin(np.radians(angles))\n",
        "result1 = np.cos(np.radians(angles))\n",
        "result2 = np.tan(np.radians(angles))"
      ],
      "metadata": {
        "id": "ed0fIN4GA_KN"
      },
      "execution_count": null,
      "outputs": []
    },
    {
      "cell_type": "code",
      "source": [
        "print(result)\n",
        "print(result1)\n",
        "print(result2)"
      ],
      "metadata": {
        "colab": {
          "base_uri": "https://localhost:8080/"
        },
        "id": "l8w97oo2Bm-v",
        "outputId": "51ab5664-d510-4078-f930-4c3f2d7cd0d1"
      },
      "execution_count": null,
      "outputs": [
        {
          "output_type": "stream",
          "name": "stdout",
          "text": [
            "[0.         0.25881905 0.5        0.70710678 0.8660254  0.96592583\n",
            " 1.        ]\n",
            "[1.00000000e+00 9.65925826e-01 8.66025404e-01 7.07106781e-01\n",
            " 5.00000000e-01 2.58819045e-01 6.12323400e-17]\n",
            "[0.00000000e+00 2.67949192e-01 5.77350269e-01 1.00000000e+00\n",
            " 1.73205081e+00 3.73205081e+00 1.63312394e+16]\n"
          ]
        }
      ]
    },
    {
      "cell_type": "code",
      "source": [
        "arr = np.array([1,2,3,4,5,6])\n",
        "\n",
        "# Reshape the array\n",
        "reshapedarr = arr.reshape(3,2)\n",
        "\n",
        "print(reshapedarr)\n",
        "\n",
        "#convert / Flatten any n dim array\n",
        "flattenedarr = arr.flatten()\n",
        "\n",
        "print(flattenedarr)"
      ],
      "metadata": {
        "colab": {
          "base_uri": "https://localhost:8080/"
        },
        "id": "jsj8CWW5Bw9H",
        "outputId": "9d9cddd1-032f-4665-86c6-be0cd7a39843"
      },
      "execution_count": null,
      "outputs": [
        {
          "output_type": "stream",
          "name": "stdout",
          "text": [
            "[[1 2]\n",
            " [3 4]\n",
            " [5 6]]\n",
            "[1 2 3 4 5 6]\n"
          ]
        }
      ]
    },
    {
      "cell_type": "code",
      "source": [
        "# Stacking the data\n",
        "\n",
        "arr1 = np.array([[1,2,3,4],[2,3,4,5]])\n",
        "arr2 = np.array([10,20,30,40])\n",
        "\n",
        "# Vertical Stacking\n",
        "arr3 = np.vstack((arr1,arr2))\n",
        "print(f\"The shape of arr3 is {arr3.shape}\")\n",
        "\n",
        "# Horizontal Stacking\n",
        "arr4 = np.hstack((arr1,arr2.reshape(2,2))) #Need to reshape to stack horizontally\n",
        "print(f\"The shape of arr4 is {arr4.shape}\")\n",
        "print(arr4)"
      ],
      "metadata": {
        "colab": {
          "base_uri": "https://localhost:8080/"
        },
        "id": "vzUUkXpkB1sv",
        "outputId": "92660aad-84bd-4466-b241-80b5ae9dfbb8"
      },
      "execution_count": null,
      "outputs": [
        {
          "output_type": "stream",
          "name": "stdout",
          "text": [
            "The shape of arr3 is (3, 4)\n",
            "The shape of arr4 is (2, 6)\n",
            "[[ 1  2  3  4 10 20]\n",
            " [ 2  3  4  5 30 40]]\n"
          ]
        }
      ]
    },
    {
      "cell_type": "code",
      "source": [
        "# Filtering the data\n",
        "arr = np.array([10,20,30,40,50,60,70,80])\n",
        "\n",
        "farr = arr[arr > 40]\n",
        "\n",
        "print(farr)"
      ],
      "metadata": {
        "id": "k5bYcGxKKuy8",
        "outputId": "c779c3d8-fe8b-4683-cb31-1dbba6c1fef2",
        "colab": {
          "base_uri": "https://localhost:8080/"
        }
      },
      "execution_count": null,
      "outputs": [
        {
          "output_type": "stream",
          "name": "stdout",
          "text": [
            "[50 60 70 80]\n"
          ]
        }
      ]
    }
  ]
}